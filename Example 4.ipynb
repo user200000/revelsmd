{
 "cells": [
  {
   "cell_type": "markdown",
   "metadata": {},
   "source": [
    "# Example4: Rigid Water"
   ]
  },
  {
   "cell_type": "markdown",
   "metadata": {},
   "source": [
    "We now move to look at the method for calculating three dimensional densities of rigid water molecules (for instance spce). When studying rigid water we treat the molecule as a single body as discussed in our paper published here: https://aip.scitation.org/doi/abs/10.1063/1.5111697 "
   ]
  },
  {
   "cell_type": "code",
   "execution_count": 1,
   "metadata": {},
   "outputs": [],
   "source": [
    "from revelsmd import *\n",
    "import numpy as np\n",
    "import matplotlib.pyplot as plt\n",
    "import MDAnalysis as md\n",
    "%matplotlib inline"
   ]
  },
  {
   "cell_type": "markdown",
   "metadata": {},
   "source": [
    "Again we generate a trajectory state. This is a case of an mdanalysis trajectory state as we use a gromacs trajectory. "
   ]
  },
  {
   "cell_type": "code",
   "execution_count": 2,
   "metadata": {},
   "outputs": [],
   "source": [
    "traj=TrajectoryStates.MDATrajectoryState('examples/example_4_rigid_water/forJoss.trr','examples/example_4_rigid_water/prodQUICKSNAP.tpr')"
   ]
  },
  {
   "cell_type": "code",
   "execution_count": 3,
   "metadata": {},
   "outputs": [
    {
     "data": {
      "text/plain": [
       "<Atom 1: Ow of type OW of resname SOL, resid 1 and segid seg_0_SOL>"
      ]
     },
     "execution_count": 3,
     "metadata": {},
     "output_type": "execute_result"
    }
   ],
   "source": [
    "traj.mdanalysis_universe.atoms[0]"
   ]
  },
  {
   "cell_type": "markdown",
   "metadata": {},
   "source": [
    "## Calculating a force based 3D density"
   ]
  },
  {
   "cell_type": "markdown",
   "metadata": {},
   "source": [
    "The three dimensional density part of the code is more involved than the RDF and requires the generation of two additional python objects. A GridState (in which the calculation is performed), and a SelectionState (which containd indexing information for the species we are indexing). Here we have the simplest example possible, and start by generating the grid state. If you use the trajectory included in this tutorial there will only be 8000 frames this the bottom limit for getting something useable.\n",
    "\n",
    "This example repeats the water density calculation perfomed in the original paper, however, in this example we do not exclude the frozen water molecules, so a very strong peak will be located at the centre of mass of the molecule.\n",
    "\n",
    "We start by generating a grid."
   ]
  },
  {
   "cell_type": "code",
   "execution_count": 9,
   "metadata": {},
   "outputs": [],
   "source": [
    "GS=RevelsMD3D.GridState(traj,'number',nbins=200,temperature=600)"
   ]
  },
  {
   "cell_type": "markdown",
   "metadata": {},
   "source": [
    "We move to making the force grid. The fast gridding method we use here is based in numpy and seems to perform well against the codes in standard libraries"
   ]
  },
  {
   "cell_type": "code",
   "execution_count": 10,
   "metadata": {},
   "outputs": [
    {
     "name": "stdout",
     "output_type": "stream",
     "text": [
      "<function RevelsMD3D.Estimators.single_frame_rigid_number_com_grid at 0x7f96b87594d0>\n"
     ]
    },
    {
     "name": "stderr",
     "output_type": "stream",
     "text": [
      "100%|███████████████████████████████████████████████████████████████████████████████████████████████| 8000/8000 [01:53<00:00, 70.78it/s]\n"
     ]
    }
   ],
   "source": [
    "GS.make_force_grid(traj,['Ow','Hw1','Hw2'],kernel='box',rigid=True)"
   ]
  },
  {
   "cell_type": "code",
   "execution_count": 11,
   "metadata": {},
   "outputs": [],
   "source": [
    "GS.get_real_density()"
   ]
  },
  {
   "cell_type": "code",
   "execution_count": 14,
   "metadata": {},
   "outputs": [
    {
     "data": {
      "text/plain": [
       "(75.0, 125.0)"
      ]
     },
     "execution_count": 14,
     "metadata": {},
     "output_type": "execute_result"
    },
    {
     "data": {
      "image/png": "[encoded data removed]",
      "text/plain": [
       "<Figure size 288x288 with 1 Axes>"
      ]
     },
     "metadata": {
      "needs_background": "light"
     },
     "output_type": "display_data"
    }
   ],
   "source": [
    "plt.figure(figsize=(4,4))\n",
    "plt.contourf(GS.rho[:,:,100],cmap='Reds')\n",
    "plt.ylim(75,125)\n",
    "plt.xlim(75,125)"
   ]
  },
  {
   "cell_type": "code",
   "execution_count": null,
   "metadata": {},
   "outputs": [
    {
     "name": "stderr",
     "output_type": "stream",
     "text": [
      " 42%|█████████████████████████████████████▉                                                    | 3372/8000 [9:47:33<59:46:53, 46.50s/it]"
     ]
    }
   ],
   "source": [
    "GS_combined=GS.get_lambda(traj,8000)"
   ]
  },
  {
   "cell_type": "code",
   "execution_count": null,
   "metadata": {},
   "outputs": [],
   "source": []
  }
 ],
 "metadata": {
  "kernelspec": {
   "display_name": "Python 3 (ipykernel)",
   "language": "python",
   "name": "python3"
  },
  "language_info": {
   "codemirror_mode": {
    "name": "ipython",
    "version": 3
   },
   "file_extension": ".py",
   "mimetype": "text/x-python",
   "name": "python",
   "nbconvert_exporter": "python",
   "pygments_lexer": "ipython3",
   "version": "3.7.13"
  }
 },
 "nbformat": 4,
 "nbformat_minor": 2
}
