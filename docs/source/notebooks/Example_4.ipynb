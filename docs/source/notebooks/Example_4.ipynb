{
 "cells": [
  {
   "cell_type": "markdown",
   "metadata": {},
   "source": [
    "# Example 4 — Rigid water number and polarisation densities"
   ]
  },
  {
   "cell_type": "markdown",
   "metadata": {},
   "source": [
    "We now move to look at the method for calculating three dimensional densities of rigid water molecules (for instance spce). When studying rigid water we treat the molecule as a single body as discussed in our paper published here: https://aip.scitation.org/doi/abs/10.1063/1.5111697 "
   ]
  },
  {
   "cell_type": "code",
   "execution_count": 1,
   "metadata": {},
   "outputs": [],
   "source": [
    "from revelsMD import *\n",
    "from revelsMD.revels_3D import Revels3D\n",
    "import numpy as np\n",
    "import matplotlib.pyplot as plt\n",
    "from revelsMD.trajectory_states import MDATrajectoryState\n",
    "import MDAnalysis as md\n",
    "%matplotlib inline"
   ]
  },
  {
   "cell_type": "markdown",
   "metadata": {},
   "source": [
    "Again we generate a trajectory state. This is a case of an mdanalysis trajectory state as we use a gromacs trajectory. "
   ]
  },
  {
   "cell_type": "code",
   "execution_count": 2,
   "metadata": {},
   "outputs": [],
   "source": [
    "traj=MDATrajectoryState('../../../examples/example_4_rigid_water/prod.trr','../../../examples/example_4_rigid_water/prod.tpr')"
   ]
  },
  {
   "cell_type": "code",
   "execution_count": 3,
   "metadata": {},
   "outputs": [
    {
     "data": {
      "text/plain": [
       "<Atom 1: Ow of type OW of resname SOL, resid 1 and segid seg_0_SOL>"
      ]
     },
     "execution_count": 3,
     "metadata": {},
     "output_type": "execute_result"
    }
   ],
   "source": [
    "traj.mdanalysis_universe.atoms[0]"
   ]
  },
  {
   "cell_type": "markdown",
   "metadata": {},
   "source": [
    "## Calculating a force based 3D density"
   ]
  },
  {
   "cell_type": "markdown",
   "metadata": {},
   "source": [
    "The three dimensional density part of the code is more involved than the RDF and requires the generation of two additional python objects. A GridState (in which the calculation is performed), and a SelectionState (which containd indexing information for the species we are indexing). Here we have the simplest example possible, and start by generating the grid state. If you use the trajectory included in this tutorial there will only be 8000 frames this the bottom limit for getting something useable.\n",
    "\n",
    "This example repeats the water density calculation perfomed in the original paper, however, in this example we do not exclude the frozen water molecules, so a very strong peak will be located at the centre of mass of the molecule.\n",
    "\n",
    "We start by generating a grid."
   ]
  },
  {
   "cell_type": "code",
   "execution_count": 4,
   "metadata": {},
   "outputs": [],
   "source": [
    "GS=Revels3D.GridState(traj,'number',nbins=200,temperature=300)"
   ]
  },
  {
   "cell_type": "markdown",
   "metadata": {},
   "source": [
    "We move to making the force grid. The fast gridding method we use here is based in numpy and seems to perform well against the codes in standard libraries, however it will give bad results for grids where multiple water molecules can be in a cell, as a general rule a voxel should be no greater in volume than the excluded volume. If we dont set a central atom the molecule will be considered to be located at its centre of mass"
   ]
  },
  {
   "cell_type": "code",
   "execution_count": 5,
   "metadata": {},
   "outputs": [
    {
     "name": "stderr",
     "output_type": "stream",
     "text": [
      "100%|██████████| 8000/8000 [00:24<00:00, 332.93it/s]\n"
     ]
    }
   ],
   "source": [
    "GS.make_force_grid(traj,['Ow','Hw1','Hw2'],kernel='triangular',rigid=True)"
   ]
  },
  {
   "cell_type": "markdown",
   "metadata": {},
   "source": [
    "We follow this down with the transform and the obtain the water solvation shell."
   ]
  },
  {
   "cell_type": "code",
   "execution_count": 6,
   "metadata": {},
   "outputs": [],
   "source": [
    "GS.get_real_density()"
   ]
  },
  {
   "cell_type": "markdown",
   "metadata": {},
   "source": [
    "We then plot the number density of solvating waters arouns a central water molecule."
   ]
  },
  {
   "cell_type": "code",
   "execution_count": 7,
   "metadata": {},
   "outputs": [
    {
     "data": {
      "text/plain": [
       "(75.0, 125.0)"
      ]
     },
     "execution_count": 7,
     "metadata": {},
     "output_type": "execute_result"
    },
    {
     "data": {
      "image/png": "[encoded data removed]",
      "text/plain": [
       "<Figure size 400x400 with 1 Axes>"
      ]
     },
     "metadata": {},
     "output_type": "display_data"
    }
   ],
   "source": [
    "plt.figure(figsize=(4,4))\n",
    "plt.contourf(GS.rho[:,:,100],cmap='Reds')\n",
    "plt.ylim(75,125)\n",
    "plt.xlim(75,125)"
   ]
  },
  {
   "cell_type": "markdown",
   "metadata": {},
   "source": [
    "We can the write this to a cube fiel using write_to_cube which we can visualise in vesta."
   ]
  },
  {
   "cell_type": "code",
   "execution_count": 9,
   "metadata": {},
   "outputs": [],
   "source": [
    "import ase.io\n",
    "GS.write_to_cube(ase.io.read('../../../examples/example_4_rigid_water/prod.gro')[-3:],GS.rho,'out.cube',convert_pmg=False)"
   ]
  },
  {
   "cell_type": "markdown",
   "metadata": {},
   "source": [
    "## Calculating a polarisation density for a rigid water molecule"
   ]
  },
  {
   "cell_type": "markdown",
   "metadata": {},
   "source": [
    "We then run the polarisation density in mutch the same ways."
   ]
  },
  {
   "cell_type": "code",
   "execution_count": 10,
   "metadata": {},
   "outputs": [],
   "source": [
    "GSpol=Revels3D.GridState(traj,'polarisation',nbins=200,temperature=300)"
   ]
  },
  {
   "cell_type": "code",
   "execution_count": 11,
   "metadata": {},
   "outputs": [
    {
     "name": "stderr",
     "output_type": "stream",
     "text": [
      "100%|██████████| 8000/8000 [00:24<00:00, 320.47it/s]\n"
     ]
    }
   ],
   "source": [
    "GSpol.make_force_grid(traj,['Ow','Hw1','Hw2'],kernel='triangular',rigid=True)"
   ]
  },
  {
   "cell_type": "code",
   "execution_count": 12,
   "metadata": {},
   "outputs": [],
   "source": [
    "GSpol.get_real_density()"
   ]
  },
  {
   "cell_type": "markdown",
   "metadata": {},
   "source": [
    "We can then plot this as a colourmap, and plot this out as a cube file for imaging (VESTA is good for this). In this case the colourmap is a bit poor as we've used a small trajectory to save on size. If you check vesta you can see all is well."
   ]
  },
  {
   "cell_type": "code",
   "execution_count": 13,
   "metadata": {},
   "outputs": [
    {
     "data": {
      "text/plain": [
       "(75.0, 125.0)"
      ]
     },
     "execution_count": 13,
     "metadata": {},
     "output_type": "execute_result"
    },
    {
     "data": {
      "image/png": "[encoded data removed]",
      "text/plain": [
       "<Figure size 400x400 with 1 Axes>"
      ]
     },
     "metadata": {},
     "output_type": "display_data"
    }
   ],
   "source": [
    "plt.figure(figsize=(4,4))\n",
    "plt.contourf(GSpol.rho[:,:,100],cmap='Reds')\n",
    "plt.ylim(75,125)\n",
    "plt.xlim(75,125)"
   ]
  },
  {
   "cell_type": "code",
   "execution_count": 15,
   "metadata": {},
   "outputs": [],
   "source": [
    "import ase.io\n",
    "GS.write_to_cube(ase.io.read('../../../examples/example_4_rigid_water/prod.gro')[-3:],GSpol.rho,'outpol.cube',convert_pmg=False)"
   ]
  }
 ],
 "metadata": {
  "kernelspec": {
   "display_name": "Python 3 (ipykernel)",
   "language": "python",
   "name": "python3"
  },
  "language_info": {
   "codemirror_mode": {
    "name": "ipython",
    "version": 3
   },
   "file_extension": ".py",
   "mimetype": "text/x-python",
   "name": "python",
   "nbconvert_exporter": "python",
   "pygments_lexer": "ipython3",
   "version": "3.12.11"
  }
 },
 "nbformat": 4,
 "nbformat_minor": 2
}
