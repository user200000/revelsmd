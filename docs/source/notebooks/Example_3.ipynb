{
 "cells": [
  {
   "cell_type": "markdown",
   "metadata": {},
   "source": [
    "# Example 3 — Vasp Solid electrolyte 3D example"
   ]
  },
  {
   "cell_type": "markdown",
   "metadata": {},
   "source": [
    "Here, we examine a small example of calculating the **fluoride ion density** confined within the solid electrolyte *BaSnF₄*, taken from a [previous study](https://pubs.acs.org/doi/full/10.1021/jacs.3c08232).  \n",
    "\n",
    "This example demonstrates the **VASP trajectory state** and the **Gaussian cube file export function**, which together form the primary **materials science use case** of *RevelsMD*.  \n",
    "Currently, this method supports **cubic** and **orthorhombic** simulation cells."
   ]
  },
  {
   "cell_type": "code",
   "execution_count": 1,
   "metadata": {},
   "outputs": [],
   "source": [
    "from revelsMD import trajectory_states, revels_3D\n",
    "from tqdm import tqdm"
   ]
  },
  {
   "cell_type": "markdown",
   "metadata": {},
   "source": [
    "We begin by creating a **list of VASP run files (`vaspruns`)** to load into the trajectory state.  "
   ]
  },
  {
   "cell_type": "code",
   "execution_count": 5,
   "metadata": {},
   "outputs": [
    {
     "name": "stderr",
     "output_type": "stream",
     "text": [
      "100%|██████████| 10/10 [00:00<00:00, 343795.41it/s]\n"
     ]
    }
   ],
   "source": [
    "vaspruns=[]\n",
    "for i in tqdm(range(1,11)):\n",
    "    vaspruns.append(f'../../../examples/example_3_BaSnF4/r{i}/vasprun.xml')"
   ]
  },
  {
   "cell_type": "markdown",
   "metadata": {},
   "source": [
    "The **VaspRun trajectory state** can be initialized directly from this list of files, but it is essential to ensure that **forces have been saved** in the `vasprun.xml` or `vasprun.xml.gz` outputs—these are required for reduced-variance calculations."
   ]
  },
  {
   "cell_type": "code",
   "execution_count": 6,
   "metadata": {},
   "outputs": [],
   "source": [
    "TS=trajectory_states.VaspTrajectoryState(vaspruns)"
   ]
  },
  {
   "cell_type": "markdown",
   "metadata": {},
   "source": [
    "Once the **TrajectoryState** is loaded, we can proceed to calculate a **density grid**.  \n",
    "The trajectory used in this example originates from [this publication](https://pubs.acs.org/doi/full/10.1021/jacs.3c08232); detailed simulation settings can be found in its *Methods* section.  \n",
    "\n",
    "The resulting grid provides a spatial representation of the **fluoride ion density** within the solid electrolyte.\n"
   ]
  },
  {
   "cell_type": "code",
   "execution_count": 7,
   "metadata": {},
   "outputs": [
    {
     "name": "stderr",
     "output_type": "stream",
     "text": [
      "100%|██████████| 14999/14999 [00:03<00:00, 4946.55it/s]\n"
     ]
    }
   ],
   "source": [
    "GS=revels_3D.Revels3D.GridState(TS,'number',600,nbins=250)\n",
    "GS.make_force_grid(TS,'F')\n",
    "GS.get_real_density()"
   ]
  },
  {
   "cell_type": "markdown",
   "metadata": {},
   "source": [
    "While the initial grid captures the correct structural features, the smoothest and lowest-variance density is obtained using a linear combination of conventional and force-based estimators.\n",
    "\n",
    "To construct this combination, we must choose how to divide the trajectory frames into sections for estimating variance and covariance between frames.  \n",
    "Here, we compute variance using as many sections as there are frames—effectively one frame per section.\n",
    "\n",
    "Note: This approach has not been formally validated in the literature and is included as an advanced extension for exploration.  \n",
    "It is, however, conceptually consistent with the one-frame method discussed in the [linear combination study](https://pubs.aip.org/aip/jcp/article/154/19/191101/565890).\n"
   ]
  },
  {
   "cell_type": "code",
   "execution_count": 8,
   "metadata": {},
   "outputs": [
    {
     "name": "stderr",
     "output_type": "stream",
     "text": [
      "100%|██████████| 14999/14999 [9:48:40<00:00,  2.35s/it]  \n"
     ]
    }
   ],
   "source": [
    "NGS= GS.get_lambda(TS,14999)"
   ]
  },
  {
   "cell_type": "code",
   "execution_count": 9,
   "metadata": {},
   "outputs": [],
   "source": [
    "NGS.write_to_cube(TS.Vasprun.start,NGS.optimal_density,'F_density.cube')"
   ]
  },
  {
   "cell_type": "markdown",
   "metadata": {},
   "source": [
    "\n",
    "This example illustrates how *RevelsMD* integrates with VASP outputs to compute 3D densities in solid-state systems.  \n",
    "By combining force-sampling and conventional density estimators, the method yields smoother and more accurate density maps, particularly useful for studying ion conduction pathways in crystalline materials."
   ]
  }
 ],
 "metadata": {
  "kernelspec": {
   "display_name": "Python 3 (ipykernel)",
   "language": "python",
   "name": "python3"
  },
  "language_info": {
   "codemirror_mode": {
    "name": "ipython",
    "version": 3
   },
   "file_extension": ".py",
   "mimetype": "text/x-python",
   "name": "python",
   "nbconvert_exporter": "python",
   "pygments_lexer": "ipython3",
   "version": "3.12.11"
  }
 },
 "nbformat": 4,
 "nbformat_minor": 2
}
