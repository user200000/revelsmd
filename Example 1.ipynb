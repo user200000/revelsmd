{
 "cells": [
  {
   "cell_type": "markdown",
   "metadata": {},
   "source": [
    "# Example1: Basic RevelsMD Functionality RDF"
   ]
  },
  {
   "cell_type": "markdown",
   "metadata": {},
   "source": [
    "Welcome to revelsMD a one stop shot for reduced variance sampling using various techiniques based around the usage of force densities."
   ]
  },
  {
   "cell_type": "code",
   "execution_count": 1,
   "metadata": {},
   "outputs": [],
   "source": [
    "from revelsmd import *\n",
    "import numpy as np\n",
    "import matplotlib.pyplot as plt\n",
    "import MDAnalysis as md\n",
    "%matplotlib inline"
   ]
  },
  {
   "cell_type": "markdown",
   "metadata": {},
   "source": [
    "First we generate a trajectory state, the trajectory state is a python project which defines the necessary information about a trajectory required for parsing. RevelsMD can operate on a number of different trajecotry types flexing across core MD codes (lammps and gromacs), aimd dft codes (vasp), and a slightly more involved numpy driven version. In order to be able to parse forces and positions from each of these codes different parsers are used for each software and the TrajectoryState allows this to be flexibly under the hood."
   ]
  },
  {
   "cell_type": "code",
   "execution_count": 2,
   "metadata": {},
   "outputs": [],
   "source": [
    "traj=TrajectoryStates.LammpsTrajectoryState('examples/example_1_LJ/dump.nh.lammps','examples/example_1_LJ/data.fin.nh.data',units='lj',atom_style=\"id resid type q x y z ix iy iz\")"
   ]
  },
  {
   "cell_type": "markdown",
   "metadata": {},
   "source": [
    "Then we feed it to a run function if your using lammps data as in this case you will need to assert if you are using lj, real, or metal units."
   ]
  },
  {
   "cell_type": "markdown",
   "metadata": {},
   "source": [
    "## Calculating an rdf from infinity "
   ]
  },
  {
   "cell_type": "markdown",
   "metadata": {},
   "source": [
    "We can then run a radial distribution function using RevelsMD. As described here (https://aip.scitation.org/doi/abs/10.1063/5.0053737) we have the ability to caluclate three different ways, by taking our Heaviside function from: infinity to zero, zero to inifity, or performing a linear combination of the two. Here we start by using the oldest formulation (from inifity) developed by Borgis."
   ]
  },
  {
   "cell_type": "code",
   "execution_count": 3,
   "metadata": {},
   "outputs": [
    {
     "name": "stderr",
     "output_type": "stream",
     "text": [
      "100%|███████████████████████████████████████████████████████████████████████████████████████████████████| 49/49 [06:03<00:00,  7.41s/it]\n"
     ]
    }
   ],
   "source": [
    "RDF=RevelsMDRDF.run_rdf(traj,'1','1',1.35,period=1,delr=0.005,from_zero=False)"
   ]
  },
  {
   "cell_type": "code",
   "execution_count": 4,
   "metadata": {},
   "outputs": [
    {
     "name": "stdout",
     "output_type": "stream",
     "text": [
      "Help on function run_rdf in module revelsmd:\n",
      "\n",
      "run_rdf(TS, atom_a, atom_b, temp, delr=0.01, start=0, stop=-1, period=1, rmax=True, from_zero=True)\n",
      "    This is the master function for running a force RDF.\n",
      "    \n",
      "    args:\n",
      "    TS (A RevelsMD trajectory state object): An object obtaining all of the trajectory paramaters\n",
      "    atom_a (string): The type of the first atom for which the rdf will be calculated\n",
      "    atom_b (string): The type of the second atom for which the rdf will be calculated, if atom_a == atom_b a like pairs rdf is automatically calculated\n",
      "    temp (float): Temperature of the system\n",
      "    delr (float): The spacing between radial points in an RDF (this is not a bin width as this is not a histogram but a heaviside)\n",
      "    kwargs:\n",
      "    start (int): The first frame for which the radial distribution function will be calculated\n",
      "    stop (int): The last value for which the radial distribution function will be calculated\n",
      "    period (int): The jumps made between sampled frames\n",
      "    rmax (float): The maximum radial position defaults to follow the minimum image convention\n",
      "    from_zero (bool): A boolian value if True the Heviside is taken from zero if false it is take from rmax\n",
      "    \n",
      "    returns:\n",
      "    A 2 dimensional numpy array of r values and acommpanying rdf values\n",
      "\n"
     ]
    }
   ],
   "source": [
    "help(RevelsMDRDF.run_rdf)"
   ]
  },
  {
   "cell_type": "code",
   "execution_count": 5,
   "metadata": {},
   "outputs": [
    {
     "data": {
      "text/plain": [
       "Text(0.5, 0, 'r/ $\\\\operatorname{\\\\AA}$')"
      ]
     },
     "execution_count": 5,
     "metadata": {},
     "output_type": "execute_result"
    },
    {
     "data": {
      "image/png": "[encoded data removed]",
      "text/plain": [
       "<Figure size 288x288 with 1 Axes>"
      ]
     },
     "metadata": {
      "needs_background": "light"
     },
     "output_type": "display_data"
    }
   ],
   "source": [
    "plt.figure(figsize=(4,4))\n",
    "plt.plot(RDF[0,:],RDF[1,:])\n",
    "plt.ylabel('g(r)',size=16)\n",
    "plt.xlabel(r'r/ $\\operatorname{\\AA}$',size=16)"
   ]
  },
  {
   "cell_type": "markdown",
   "metadata": {},
   "source": [
    "One of the adventages of this family of methods is that a continuous if often noisy instantaneous (single frame) radial distribution function can be calculated. We can obtain this by setting the period to the number of frames in the the trajectory state."
   ]
  },
  {
   "cell_type": "code",
   "execution_count": 6,
   "metadata": {},
   "outputs": [
    {
     "name": "stderr",
     "output_type": "stream",
     "text": [
      "100%|█████████████████████████████████████████████████████████████████████████████████████████████████████| 1/1 [00:07<00:00,  7.66s/it]\n"
     ]
    }
   ],
   "source": [
    "RDF_instaneous=RevelsMDRDF.run_rdf(traj,'1','1',1.35,period=int(traj.frames),delr=0.005,from_zero=False)"
   ]
  },
  {
   "cell_type": "code",
   "execution_count": 7,
   "metadata": {},
   "outputs": [
    {
     "data": {
      "text/plain": [
       "Text(0.5, 0, 'r/ $\\\\operatorname{\\\\AA}$')"
      ]
     },
     "execution_count": 7,
     "metadata": {},
     "output_type": "execute_result"
    },
    {
     "data": {
      "image/png": "[encoded data removed]",
      "text/plain": [
       "<Figure size 288x288 with 1 Axes>"
      ]
     },
     "metadata": {
      "needs_background": "light"
     },
     "output_type": "display_data"
    }
   ],
   "source": [
    "plt.figure(figsize=(4,4))\n",
    "plt.plot(RDF[0,:],RDF[1,:])\n",
    "plt.plot(RDF_instaneous[0,:],RDF_instaneous[1,:],color='red',linestyle='dashed')\n",
    "plt.ylabel('g(r)',size=16)\n",
    "plt.xlabel(r'r/ $\\operatorname{\\AA}$',size=16)"
   ]
  },
  {
   "cell_type": "markdown",
   "metadata": {},
   "source": [
    "Here this is exceptional agreement, for systems with less particles or where the system is solvate, it will be much worse, but it is important to remember that even if the graph is visulaly unappealing an instantaneous calculation has utility for the calculation of instantaneous thermodynmaic quantatities."
   ]
  },
  {
   "cell_type": "markdown",
   "metadata": {},
   "source": [
    "## Calculating an rdf from zero "
   ]
  },
  {
   "cell_type": "markdown",
   "metadata": {},
   "source": [
    "In comparison to conventional methodolgies force integration will not always recover directly both the zero and infinite limits, there is therefore a choice of whether to obtain a small (often inperceptable) error in the zero or large r limit. We chose to obtain the zero limit correctly with g(r)=0 as the default, this is as an infinite limit of 1 is not strictly always required, nor as aphysical as allowing overlap of particles up to r=0. "
   ]
  },
  {
   "cell_type": "markdown",
   "metadata": {},
   "source": [
    "From the perspective of the code this means that if from_zero is not set to false the calculation will be performed with Heaviside function taken from zero."
   ]
  },
  {
   "cell_type": "code",
   "execution_count": 8,
   "metadata": {},
   "outputs": [
    {
     "name": "stderr",
     "output_type": "stream",
     "text": [
      "100%|███████████████████████████████████████████████████████████████████████████████████████████████████| 49/49 [06:44<00:00,  8.26s/it]\n"
     ]
    }
   ],
   "source": [
    "RDF_default=RevelsMDRDF.run_rdf(traj,'1','1',1.35,period=1,delr=0.005)"
   ]
  },
  {
   "cell_type": "code",
   "execution_count": 9,
   "metadata": {},
   "outputs": [
    {
     "data": {
      "text/plain": [
       "Text(0.5, 0, 'r/ $\\\\operatorname{\\\\AA}$')"
      ]
     },
     "execution_count": 9,
     "metadata": {},
     "output_type": "execute_result"
    },
    {
     "data": {
      "image/png": "[encoded data removed]",
      "text/plain": [
       "<Figure size 288x288 with 1 Axes>"
      ]
     },
     "metadata": {
      "needs_background": "light"
     },
     "output_type": "display_data"
    }
   ],
   "source": [
    "plt.figure(figsize=(4,4))\n",
    "plt.plot(RDF_default[0,:],RDF_default[1,:],color='purple')\n",
    "plt.ylabel('g(r)',size=16)\n",
    "plt.xlabel(r'r/ $\\operatorname{\\AA}$',size=16)"
   ]
  },
  {
   "cell_type": "markdown",
   "metadata": {},
   "source": [
    "## Using a linear combination of these terms"
   ]
  },
  {
   "cell_type": "markdown",
   "metadata": {},
   "source": [
    "The linear combination method described in https://aip.scitation.org/doi/abs/10.1063/5.0053737 has a way of removing the issue of incorrect limits, by taking a linear combination. This can be obtained by using run_rdf_lambda, which has the same inputs as the conventional rdf calculation."
   ]
  },
  {
   "cell_type": "code",
   "execution_count": 10,
   "metadata": {},
   "outputs": [
    {
     "name": "stderr",
     "output_type": "stream",
     "text": [
      "100%|███████████████████████████████████████████████████████████████████████████████████████████████████| 49/49 [06:31<00:00,  7.99s/it]\n"
     ]
    }
   ],
   "source": [
    "RDF_lambda=RevelsMDRDF.run_rdf_lambda(traj,'1','1',1.35,period=1,delr=0.005)"
   ]
  },
  {
   "cell_type": "markdown",
   "metadata": {},
   "source": [
    "The output of this function"
   ]
  },
  {
   "cell_type": "code",
   "execution_count": 11,
   "metadata": {},
   "outputs": [
    {
     "data": {
      "text/plain": [
       "Text(0.5, 0, 'r/ $\\\\operatorname{\\\\AA}$')"
      ]
     },
     "execution_count": 11,
     "metadata": {},
     "output_type": "execute_result"
    },
    {
     "data": {
      "image/png": "[encoded data removed]",
      "text/plain": [
       "<Figure size 288x288 with 1 Axes>"
      ]
     },
     "metadata": {
      "needs_background": "light"
     },
     "output_type": "display_data"
    }
   ],
   "source": [
    "plt.figure(figsize=(4,4))\n",
    "plt.plot(RDF_lambda[:,0],RDF_lambda[:,1],color='grey')\n",
    "plt.ylabel('g(r)',size=16)\n",
    "plt.xlabel(r'r/ $\\operatorname{\\AA}$',size=16)"
   ]
  },
  {
   "cell_type": "code",
   "execution_count": 12,
   "metadata": {},
   "outputs": [
    {
     "data": {
      "text/plain": [
       "Text(0.5, 0, 'r/ $\\\\operatorname{\\\\AA}$')"
      ]
     },
     "execution_count": 12,
     "metadata": {},
     "output_type": "execute_result"
    },
    {
     "data": {
      "image/png": "[encoded data removed]",
      "text/plain": [
       "<Figure size 288x288 with 1 Axes>"
      ]
     },
     "metadata": {
      "needs_background": "light"
     },
     "output_type": "display_data"
    }
   ],
   "source": [
    "plt.figure(figsize=(4,4))\n",
    "plt.plot(RDF_lambda[:,0],RDF_lambda[:,2],color='darkGreen')\n",
    "plt.ylabel(r'$\\lambda$(r)',size=16)\n",
    "plt.xlabel(r'r/ $\\operatorname{\\AA}$',size=16)"
   ]
  }
 ],
 "metadata": {
  "kernelspec": {
   "display_name": "Python 3 (ipykernel)",
   "language": "python",
   "name": "python3"
  },
  "language_info": {
   "codemirror_mode": {
    "name": "ipython",
    "version": 3
   },
   "file_extension": ".py",
   "mimetype": "text/x-python",
   "name": "python",
   "nbconvert_exporter": "python",
   "pygments_lexer": "ipython3",
   "version": "3.7.13"
  }
 },
 "nbformat": 4,
 "nbformat_minor": 2
}
